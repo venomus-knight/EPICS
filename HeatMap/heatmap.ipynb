{
 "cells": [
  {
   "cell_type": "code",
   "execution_count": 1,
   "id": "d513db06",
   "metadata": {},
   "outputs": [],
   "source": [
    "import pandas as pd\n",
    "import folium\n",
    "from folium.plugins import HeatMap\n",
    "from geopy.geocoders import Nominatim\n",
    "import time\n"
   ]
  },
  {
   "cell_type": "code",
   "execution_count": 2,
   "id": "d2a4b8b6",
   "metadata": {},
   "outputs": [],
   "source": [
    "\n",
    "# Load the dataset\n",
    "df = pd.read_csv(\"crime_dataset.csv\")\n",
    "\n",
    "# Initialize geocoder\n",
    "geolocator = Nominatim(user_agent=\"crime_heatmap_app\")\n",
    "\n",
    "# Function to get coordinates from location name\n",
    "def get_coordinates(location):\n",
    "    try:\n",
    "        location = geolocator.geocode(f\"{location}, Delhi, India\")\n",
    "        if location:\n",
    "            return location.latitude, location.longitude\n",
    "    except:\n",
    "        return None, None\n",
    "\n",
    "# Add Latitude and Longitude columns\n",
    "df[['Latitude', 'Longitude']] = df['Location'].apply(lambda loc: pd.Series(get_coordinates(loc)))\n",
    "\n",
    "# Remove entries where location couldn't be found\n",
    "df.dropna(subset=['Latitude', 'Longitude'], inplace=True)\n",
    "\n",
    "# Create the map\n",
    "delhi_map = folium.Map(location=[28.6139, 77.2090], zoom_start=11)\n",
    "\n",
    "# Add heatmap\n",
    "heat_data = [[row['Latitude'], row['Longitude']] for _, row in df.iterrows()]\n",
    "HeatMap(heat_data).add_to(delhi_map)\n",
    "\n",
    "# Add legend\n",
    "legend_html = '''\n",
    " <div style=\"\n",
    " position: fixed; \n",
    " bottom: 50px; left: 50px; width: 150px; height: 120px; \n",
    " background-color: white;\n",
    " border:2px solid grey; z-index:9999; font-size:14px;\n",
    " padding: 10px;\n",
    " \">\n",
    " <b>Heatmap Legend</b><br>\n",
    " <i style=\"background: blue; width: 10px; height: 10px; float: left; margin-right: 5px;\"></i> Low Density<br>\n",
    " <i style=\"background: lime; width: 10px; height: 10px; float: left; margin-right: 5px;\"></i> Medium Density<br>\n",
    " <i style=\"background: red; width: 10px; height: 10px; float: left; margin-right: 5px;\"></i> High Density\n",
    " </div>\n",
    "'''\n",
    "delhi_map.get_root().html.add_child(folium.Element(legend_html))\n",
    "\n",
    "# Save the map\n",
    "delhi_map.save(r\"C:\\Users\\Dell\\Documents\\Python\\EPICS\\Sign-in\\templates\\crime_heatmap.html\")\n"
   ]
  }
 ],
 "metadata": {
  "kernelspec": {
   "display_name": ".venv",
   "language": "python",
   "name": "python3"
  },
  "language_info": {
   "codemirror_mode": {
    "name": "ipython",
    "version": 3
   },
   "file_extension": ".py",
   "mimetype": "text/x-python",
   "name": "python",
   "nbconvert_exporter": "python",
   "pygments_lexer": "ipython3",
   "version": "3.10.11"
  }
 },
 "nbformat": 4,
 "nbformat_minor": 5
}
